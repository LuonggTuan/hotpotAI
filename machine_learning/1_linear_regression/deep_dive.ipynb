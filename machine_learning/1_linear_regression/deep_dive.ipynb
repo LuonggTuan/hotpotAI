{
 "cells": [
  {
   "cell_type": "markdown",
   "id": "9ccce6b6",
   "metadata": {},
   "source": [
    "# Download the dataset"
   ]
  },
  {
   "cell_type": "code",
   "execution_count": null,
   "id": "e16c6a24",
   "metadata": {},
   "outputs": [
    {
     "name": "stdout",
     "output_type": "stream",
     "text": [
      "✅ File downloaded successfully at: dataset\\ADRvsRating.csv\n"
     ]
    }
   ],
   "source": [
    "import httpx\n",
    "import os\n",
    "\n",
    "# Đường dẫn tới thư mục đích\n",
    "folder_path = \"dataset\"\n",
    "\n",
    "# Tạo thư mục nếu chưa tồn tại\n",
    "os.makedirs(folder_path, exist_ok=True)\n",
    "\n",
    "# Gửi request tải file\n",
    "response = httpx.get(\n",
    "    \"https://raw.githubusercontent.com/yashLadha/The_Math_of_Intelligence/master/Week1/ADRvsRating.csv\",\n",
    "    timeout=10,\n",
    ")\n",
    "\n",
    "# Ghi file nếu tải thành công\n",
    "if response.status_code == 200:\n",
    "    file_path = os.path.join(folder_path, \"ADRvsRating.csv\")\n",
    "    with open(file_path, \"wb\") as f:\n",
    "        f.write(response.content)\n",
    "    print(f\"✅ File downloaded successfully at: {file_path}\")\n",
    "else:\n",
    "    print(f\"❌ Failed to download file. Status code: {response.status_code}\")\n"
   ]
  }
 ],
 "metadata": {
  "kernelspec": {
   "display_name": "envSER",
   "language": "python",
   "name": "python3"
  },
  "language_info": {
   "codemirror_mode": {
    "name": "ipython",
    "version": 3
   },
   "file_extension": ".py",
   "mimetype": "text/x-python",
   "name": "python",
   "nbconvert_exporter": "python",
   "pygments_lexer": "ipython3",
   "version": "3.11.10"
  }
 },
 "nbformat": 4,
 "nbformat_minor": 5
}
